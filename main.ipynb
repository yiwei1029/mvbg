{
 "cells": [
  {
   "cell_type": "code",
   "execution_count": null,
   "metadata": {},
   "outputs": [],
   "source": [
    "%load_ext autoreload\n",
    "%autoreload 2\n",
    "import warnings\n",
    "warnings.filterwarnings('ignore')\n",
    "#model and \n",
    "from utils import *\n",
    "from tqdm import tqdm\n",
    "from models import MSE,MDcR,DSE,MVBG,PCA\n",
    "\n",
    "X,labels=read_data('datasets/data sets/MSRC-v1.mat')\n",
    "X = [X[0,i].T for  i  in range(X.shape[1])]\n",
    "labels  = labels.squeeze()\n",
    "model_MSE = MSE()\n",
    "model_MDcR = MDcR()\n",
    "model_DSE = DSE()\n",
    "model_MVBG = MVBG(1,1,1)\n",
    "model_PCA = PCA()\n",
    "\n",
    "res_nim = []\n",
    "d_range  = range(10,12)\n",
    "for d_ in tqdm(d_range): \n",
    "    nmi_list = []\n",
    "    for i in range(20):\n",
    "        # train_test split\n",
    "        train_idx,test_idx = random_index(X[0].shape[1],0.8)\n",
    "        X_train = [x[:,train_idx] for x in X]\n",
    "        X_test = [x[:,test_idx] for x in X]\n",
    "        y_test = labels[test_idx]\n",
    "        #train\n",
    "        # Y = model_MSE.mse(X,gamma = 0.9,d_=d_,t=1e8,epoch=500)\n",
    "        # P = model_MDcR.mdcr(X,d_=10,t=1e8,lmd=10,epoch=500)\n",
    "        P   = model_PCA.cpca(X_train,d_=d_)\n",
    "        #test\n",
    "        pred =  model_PCA.predict(X_test,P,7)\n",
    "        # criterion\n",
    "        from sklearn.metrics.cluster import normalized_mutual_info_score\n",
    "        nmi = normalized_mutual_info_score(y_test,pred)\n",
    "        nmi_list.append(nmi)\n",
    "    nmi = np.mean(nmi_list)\n",
    "    res_nim.append(nmi)\n",
    "# res_nim\n",
    "import matplotlib.pyplot as plt\n",
    "plt.plot(d_range,res_nim)\n"
   ]
  },
  {
   "cell_type": "code",
   "execution_count": 56,
   "metadata": {},
   "outputs": [
    {
     "name": "stdout",
     "output_type": "stream",
     "text": [
      "The autoreload extension is already loaded. To reload it, use:\n",
      "  %reload_ext autoreload\n"
     ]
    },
    {
     "name": "stderr",
     "output_type": "stream",
     "text": [
      " 10%|█         | 1/10 [01:24<12:41, 84.64s/it]"
     ]
    },
    {
     "name": "stdout",
     "output_type": "stream",
     "text": [
      "[0.35605234 0.04388972 0.60005794]\n"
     ]
    },
    {
     "name": "stderr",
     "output_type": "stream",
     "text": [
      " 20%|██        | 2/10 [07:54<35:11, 263.97s/it]"
     ]
    },
    {
     "name": "stdout",
     "output_type": "stream",
     "text": [
      "[0.17097265 0.20042141 0.62860594]\n"
     ]
    },
    {
     "name": "stderr",
     "output_type": "stream",
     "text": [
      " 30%|███       | 3/10 [14:37<38:14, 327.83s/it]"
     ]
    },
    {
     "name": "stdout",
     "output_type": "stream",
     "text": [
      "[0.16869985 0.15765343 0.67364672]\n"
     ]
    },
    {
     "name": "stderr",
     "output_type": "stream",
     "text": [
      " 40%|████      | 4/10 [21:18<35:39, 356.52s/it]"
     ]
    },
    {
     "name": "stdout",
     "output_type": "stream",
     "text": [
      "[0.21697988 0.2380121  0.54500802]\n"
     ]
    },
    {
     "name": "stderr",
     "output_type": "stream",
     "text": [
      " 50%|█████     | 5/10 [28:01<31:06, 373.32s/it]"
     ]
    },
    {
     "name": "stdout",
     "output_type": "stream",
     "text": [
      "[0.23124464 0.13376416 0.63499121]\n"
     ]
    },
    {
     "name": "stderr",
     "output_type": "stream",
     "text": [
      " 60%|██████    | 6/10 [34:26<25:08, 377.18s/it]"
     ]
    },
    {
     "name": "stdout",
     "output_type": "stream",
     "text": [
      "[0.21589967 0.14254849 0.64155184]\n"
     ]
    },
    {
     "name": "stderr",
     "output_type": "stream",
     "text": [
      " 60%|██████    | 6/10 [35:31<23:40, 355.21s/it]\n"
     ]
    },
    {
     "ename": "KeyboardInterrupt",
     "evalue": "",
     "output_type": "error",
     "traceback": [
      "\u001b[1;31m---------------------------------------------------------------------------\u001b[0m",
      "\u001b[1;31mKeyboardInterrupt\u001b[0m                         Traceback (most recent call last)",
      "\u001b[1;32mc:\\Users\\pc\\Documents\\machine_learning_projects\\main.ipynb Cell 2\u001b[0m line \u001b[0;36m2\n\u001b[0;32m     <a href='vscode-notebook-cell:/c%3A/Users/pc/Documents/machine_learning_projects/main.ipynb#W1sZmlsZQ%3D%3D?line=18'>19</a>\u001b[0m nmi_list\u001b[39m=\u001b[39m[]\n\u001b[0;32m     <a href='vscode-notebook-cell:/c%3A/Users/pc/Documents/machine_learning_projects/main.ipynb#W1sZmlsZQ%3D%3D?line=19'>20</a>\u001b[0m \u001b[39mfor\u001b[39;00m _ \u001b[39min\u001b[39;00m \u001b[39mrange\u001b[39m(\u001b[39m1\u001b[39m):\n\u001b[1;32m---> <a href='vscode-notebook-cell:/c%3A/Users/pc/Documents/machine_learning_projects/main.ipynb#W1sZmlsZQ%3D%3D?line=20'>21</a>\u001b[0m     dim_emb \u001b[39m=\u001b[39m model_mvbg\u001b[39m.\u001b[39mmvbg(X,\u001b[39m100\u001b[39m,d_,\u001b[39m10\u001b[39m)\n\u001b[0;32m     <a href='vscode-notebook-cell:/c%3A/Users/pc/Documents/machine_learning_projects/main.ipynb#W1sZmlsZQ%3D%3D?line=21'>22</a>\u001b[0m     pred \u001b[39m=\u001b[39mkmeans(dim_emb,\u001b[39m7\u001b[39m)\n\u001b[0;32m     <a href='vscode-notebook-cell:/c%3A/Users/pc/Documents/machine_learning_projects/main.ipynb#W1sZmlsZQ%3D%3D?line=22'>23</a>\u001b[0m     nmi_temp \u001b[39m=\u001b[39m normalized_mutual_info_score(labels, pred)\n",
      "File \u001b[1;32mc:\\Users\\pc\\Documents\\machine_learning_projects\\models.py:34\u001b[0m, in \u001b[0;36mMVBG.mvbg\u001b[1;34m(self, X, m, d_, epoch)\u001b[0m\n\u001b[0;32m     32\u001b[0m E \u001b[39m=\u001b[39m np\u001b[39m.\u001b[39mconcatenate([F,G])\n\u001b[0;32m     33\u001b[0m \u001b[39m#step3: Updating Z\u001b[39;00m\n\u001b[1;32m---> 34\u001b[0m \u001b[39mself\u001b[39m\u001b[39m.\u001b[39mupdate_z(w,U, X,D_F,D_G, F,G,Z)\n\u001b[0;32m     35\u001b[0m \u001b[39m#step4: Updating W\u001b[39;00m\n\u001b[0;32m     36\u001b[0m h \u001b[39m=\u001b[39m [np\u001b[39m.\u001b[39mlinalg\u001b[39m.\u001b[39mnorm(X[i]\u001b[39m-\u001b[39mU[i]\u001b[39m.\u001b[39mdot(Z)) \u001b[39mfor\u001b[39;00m i \u001b[39min\u001b[39;00m \u001b[39mrange\u001b[39m(\u001b[39mlen\u001b[39m(w))]\n",
      "File \u001b[1;32mc:\\Users\\pc\\Documents\\machine_learning_projects\\models.py:72\u001b[0m, in \u001b[0;36mMVBG.update_z\u001b[1;34m(self, w, U, X, D_F, D_G, F, G, Z)\u001b[0m\n\u001b[0;32m     70\u001b[0m \u001b[39mfor\u001b[39;00m lmda \u001b[39min\u001b[39;00m np\u001b[39m.\u001b[39mlinspace(\u001b[39m-\u001b[39mnp\u001b[39m.\u001b[39mabs(\u001b[39mmax\u001b[39m(k))\u001b[39m-\u001b[39m\u001b[39m1\u001b[39m\u001b[39m/\u001b[39m\u001b[39mlen\u001b[39m(k),np\u001b[39m.\u001b[39mabs(\u001b[39mmax\u001b[39m(k))\u001b[39m+\u001b[39m\u001b[39m1\u001b[39m\u001b[39m/\u001b[39m\u001b[39mlen\u001b[39m(k),\u001b[39mlen\u001b[39m(k)\u001b[39m*\u001b[39m\u001b[39m1000\u001b[39m):\n\u001b[0;32m     71\u001b[0m     z_i \u001b[39m=\u001b[39m np\u001b[39m.\u001b[39mwhere(k\u001b[39m+\u001b[39mlmda\u001b[39m>\u001b[39m\u001b[39m=\u001b[39m\u001b[39m0\u001b[39m,k\u001b[39m+\u001b[39mlmda,\u001b[39m0\u001b[39m)\n\u001b[1;32m---> 72\u001b[0m     \u001b[39mif\u001b[39;00m(np\u001b[39m.\u001b[39mabs(z_i\u001b[39m.\u001b[39msum()\u001b[39m-\u001b[39m\u001b[39m1\u001b[39m)\u001b[39m<\u001b[39m\u001b[39m1\u001b[39m\u001b[39m/\u001b[39m\u001b[39m1000\u001b[39m):\n\u001b[0;32m     73\u001b[0m         \u001b[39mbreak\u001b[39;00m\n\u001b[0;32m     76\u001b[0m eta \u001b[39m=\u001b[39m eta\u001b[39m+\u001b[39mmu\u001b[39m*\u001b[39m(z_i\u001b[39m-\u001b[39mphi)\n",
      "File \u001b[1;32md:\\Soft\\Anaconda\\Lib\\site-packages\\numpy\\core\\_methods.py:47\u001b[0m, in \u001b[0;36m_sum\u001b[1;34m(a, axis, dtype, out, keepdims, initial, where)\u001b[0m\n\u001b[0;32m     43\u001b[0m \u001b[39mdef\u001b[39;00m \u001b[39m_amin\u001b[39m(a, axis\u001b[39m=\u001b[39m\u001b[39mNone\u001b[39;00m, out\u001b[39m=\u001b[39m\u001b[39mNone\u001b[39;00m, keepdims\u001b[39m=\u001b[39m\u001b[39mFalse\u001b[39;00m,\n\u001b[0;32m     44\u001b[0m           initial\u001b[39m=\u001b[39m_NoValue, where\u001b[39m=\u001b[39m\u001b[39mTrue\u001b[39;00m):\n\u001b[0;32m     45\u001b[0m     \u001b[39mreturn\u001b[39;00m umr_minimum(a, axis, \u001b[39mNone\u001b[39;00m, out, keepdims, initial, where)\n\u001b[1;32m---> 47\u001b[0m \u001b[39mdef\u001b[39;00m \u001b[39m_sum\u001b[39m(a, axis\u001b[39m=\u001b[39m\u001b[39mNone\u001b[39;00m, dtype\u001b[39m=\u001b[39m\u001b[39mNone\u001b[39;00m, out\u001b[39m=\u001b[39m\u001b[39mNone\u001b[39;00m, keepdims\u001b[39m=\u001b[39m\u001b[39mFalse\u001b[39;00m,\n\u001b[0;32m     48\u001b[0m          initial\u001b[39m=\u001b[39m_NoValue, where\u001b[39m=\u001b[39m\u001b[39mTrue\u001b[39;00m):\n\u001b[0;32m     49\u001b[0m     \u001b[39mreturn\u001b[39;00m umr_sum(a, axis, dtype, out, keepdims, initial, where)\n\u001b[0;32m     51\u001b[0m \u001b[39mdef\u001b[39;00m \u001b[39m_prod\u001b[39m(a, axis\u001b[39m=\u001b[39m\u001b[39mNone\u001b[39;00m, dtype\u001b[39m=\u001b[39m\u001b[39mNone\u001b[39;00m, out\u001b[39m=\u001b[39m\u001b[39mNone\u001b[39;00m, keepdims\u001b[39m=\u001b[39m\u001b[39mFalse\u001b[39;00m,\n\u001b[0;32m     52\u001b[0m           initial\u001b[39m=\u001b[39m_NoValue, where\u001b[39m=\u001b[39m\u001b[39mTrue\u001b[39;00m):\n",
      "\u001b[1;31mKeyboardInterrupt\u001b[0m: "
     ]
    }
   ],
   "source": [
    "#MVBG\n",
    "%load_ext autoreload\n",
    "%autoreload 2\n",
    "import warnings\n",
    "warnings.filterwarnings('ignore')\n",
    "#model and \n",
    "from utils import *\n",
    "from tqdm import tqdm\n",
    "from models import MSE,MDcR,DSE,MVBG,PCA\n",
    "from sklearn.metrics.cluster import normalized_mutual_info_score\n",
    "X,labels=read_data('datasets/data sets/NGs.mat')\n",
    "X = [X[0,i].T for  i  in range(X.shape[1])]\n",
    "labels  = labels.squeeze()\n",
    "\n",
    "d_range = (10,12)\n",
    "model_mvbg = MVBG(0.1,2,0.1)\n",
    "res_nmi = []\n",
    "for d_ in d_range:\n",
    "    nmi_list=[]\n",
    "    for _ in range(1):\n",
    "        dim_emb = model_mvbg.mvbg(X,100,d_,10)\n",
    "        pred =kmeans(dim_emb,7)\n",
    "        nmi_temp = normalized_mutual_info_score(labels, pred)\n",
    "        nmi_list.append(nmi_temp)\n",
    "    nmi = np.mean(nmi_list)\n",
    "    res_nmi.append(nmi)\n",
    "print(res_nmi)"
   ]
  },
  {
   "cell_type": "code",
   "execution_count": null,
   "metadata": {},
   "outputs": [],
   "source": [
    "#DSE 單獨\n",
    "%load_ext autoreload\n",
    "%autoreload 2\n",
    "import warnings\n",
    "warnings.filterwarnings('ignore')\n",
    "\n",
    "from utils import *\n",
    "from tqdm import tqdm\n",
    "X,labels=read_data('datasets/data sets/YALE.mat')\n",
    "X = [X[0,i].T for  i  in range(X.shape[1])]\n",
    "labels  = labels.squeeze()\n",
    "\n",
    "from models import DSE\n",
    "model_DSE = DSE()\n",
    "nmi_list=[]\n",
    "\n",
    "for _ in tqdm(range(20)):\n",
    "\n",
    "    pred = model_DSE.dse(X,7,2,500)\n",
    "    from sklearn.metrics.cluster import normalized_mutual_info_score\n",
    "    nmi = normalized_mutual_info_score(labels,pred)\n",
    "    # print(nmi)\n",
    "    nmi_list.append(nmi)\n",
    "print(np.mean(nmi_list))"
   ]
  },
  {
   "cell_type": "code",
   "execution_count": null,
   "metadata": {},
   "outputs": [],
   "source": [
    "labels.shape"
   ]
  },
  {
   "cell_type": "code",
   "execution_count": null,
   "metadata": {},
   "outputs": [],
   "source": [
    "x=np.random.rand(3,4)\n",
    "np.exp(x)/np.exp(x).sum(1).reshape(3,-1)"
   ]
  }
 ],
 "metadata": {
  "kernelspec": {
   "display_name": "base",
   "language": "python",
   "name": "python3"
  },
  "language_info": {
   "codemirror_mode": {
    "name": "ipython",
    "version": 3
   },
   "file_extension": ".py",
   "mimetype": "text/x-python",
   "name": "python",
   "nbconvert_exporter": "python",
   "pygments_lexer": "ipython3",
   "version": "3.11.4"
  }
 },
 "nbformat": 4,
 "nbformat_minor": 2
}
