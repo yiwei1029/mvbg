{
 "cells": [
  {
   "cell_type": "code",
   "execution_count": null,
   "metadata": {},
   "outputs": [],
   "source": [
    "%load_ext autoreload\n",
    "%autoreload 2\n",
    "import warnings\n",
    "warnings.filterwarnings('ignore')\n",
    "#model and \n",
    "from utils import *\n",
    "X,labels=read_data('datasets/data sets/MSRC-v1.mat')\n",
    "X = [X[0,i].T for  i  in range(X.shape[1])]\n",
    "labels  = labels.squeeze()\n",
    "from models import MSE,MDcR,DSE\n",
    "model_MSE = MSE()\n",
    "model_MDcR = MDcR()\n",
    "model_DSE = DSE()\n",
    "\n",
    "res = []\n",
    "for d_ in range(10,12):\n",
    "    Y = model_MSE.mse(X,gamma = 0.9,d_=d_,t=1e8,epoch=500)\n",
    "    Y = model_MDcR.mdcr(X,d_=10,t=1e8,lmd=10,epoch=500)\n",
    "    nmi_list = []\n",
    "    for i in range(20):\n",
    "        pred = kmeans(Y,7)\n",
    "        # criterion\n",
    "        from sklearn.metrics.cluster import normalized_mutual_info_score\n",
    "        nmi = normalized_mutual_info_score(labels,pred)\n",
    "        nmi_list.append(nmi)\n",
    "    nmi = np.mean(nmi_list)\n",
    "    res.append(nmi)\n"
   ]
  },
  {
   "cell_type": "code",
   "execution_count": 34,
   "metadata": {},
   "outputs": [
    {
     "name": "stdout",
     "output_type": "stream",
     "text": [
      "The autoreload extension is already loaded. To reload it, use:\n",
      "  %reload_ext autoreload\n",
      "0.0\n"
     ]
    }
   ],
   "source": [
    "#DSE 單獨\n",
    "%load_ext autoreload\n",
    "%autoreload 2\n",
    "import warnings\n",
    "warnings.filterwarnings('ignore')\n",
    "\n",
    "from utils import *\n",
    "X,labels=read_data('datasets/data sets/MSRC-v1.mat')\n",
    "X = [X[0,i].T for  i  in range(X.shape[1])]\n",
    "labels  = labels.squeeze()\n",
    "\n",
    "from models import DSE\n",
    "model_DSE = DSE()\n",
    "pred = model_DSE.dse(X,7,0.1,500)\n",
    "from sklearn.metrics.cluster import normalized_mutual_info_score\n",
    "nmi = normalized_mutual_info_score(labels,pred)\n",
    "print(nmi)\n",
    "# print(pred)"
   ]
  },
  {
   "cell_type": "code",
   "execution_count": null,
   "metadata": {},
   "outputs": [],
   "source": [
    "import matplotlib.pyplot as plt\n",
    "\n",
    "plt.plot(range(10,12),res)"
   ]
  },
  {
   "cell_type": "code",
   "execution_count": null,
   "metadata": {},
   "outputs": [],
   "source": [
    "x=np.random.rand(3,4)\n",
    "np.exp(x)/np.exp(x).sum(1).reshape(3,-1)"
   ]
  }
 ],
 "metadata": {
  "kernelspec": {
   "display_name": "base",
   "language": "python",
   "name": "python3"
  },
  "language_info": {
   "codemirror_mode": {
    "name": "ipython",
    "version": 3
   },
   "file_extension": ".py",
   "mimetype": "text/x-python",
   "name": "python",
   "nbconvert_exporter": "python",
   "pygments_lexer": "ipython3",
   "version": "3.11.4"
  }
 },
 "nbformat": 4,
 "nbformat_minor": 2
}
