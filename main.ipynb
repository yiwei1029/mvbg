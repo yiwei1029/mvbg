{
 "cells": [
  {
   "cell_type": "code",
   "execution_count": 81,
   "metadata": {},
   "outputs": [
    {
     "name": "stdout",
     "output_type": "stream",
     "text": [
      "The autoreload extension is already loaded. To reload it, use:\n",
      "  %reload_ext autoreload\n"
     ]
    },
    {
     "name": "stderr",
     "output_type": "stream",
     "text": [
      "100%|██████████| 2/2 [01:23<00:00, 42.00s/it]\n"
     ]
    },
    {
     "data": {
      "text/plain": [
       "[<matplotlib.lines.Line2D at 0x1efa05e4d50>]"
      ]
     },
     "execution_count": 81,
     "metadata": {},
     "output_type": "execute_result"
    },
    {
     "data": {
      "image/png": "[encoded data removed]",
      "text/plain": [
       "<Figure size 640x480 with 1 Axes>"
      ]
     },
     "metadata": {},
     "output_type": "display_data"
    }
   ],
   "source": [
    "%load_ext autoreload\n",
    "%autoreload 2\n",
    "import warnings\n",
    "warnings.filterwarnings('ignore')\n",
    "#model and \n",
    "from utils import *\n",
    "from tqdm import tqdm\n",
    "from models import MSE,MDcR,DSE,MVBG,PCA,MVP\n",
    "\n",
    "X,labels=read_data('datasets/data sets/MSRC-v1.mat')\n",
    "X = [X[0,i].T for  i  in range(X.shape[1])]\n",
    "labels  = labels.squeeze()\n",
    "model_MSE = MSE()\n",
    "model_MDcR = MDcR()\n",
    "model_DSE = DSE()\n",
    "model_MVBG = MVBG(1,1,1)\n",
    "model_PCA = PCA()\n",
    "model_MVP =  MVP()\n",
    "\n",
    "res_nim = []\n",
    "d_range  = range(10,12)\n",
    "for d_ in tqdm(d_range): \n",
    "    nmi_list = []\n",
    "    for i in range(20):\n",
    "        # train_test split\n",
    "        train_idx,test_idx = random_index(X[0].shape[1],0.8)\n",
    "        X_train = [x[:,train_idx] for x in X]\n",
    "        X_test = [x[:,test_idx] for x in X]\n",
    "        y_test = labels[test_idx]\n",
    "        #train\n",
    "        # P = model_MSE.mse(X,gamma = 0.9,d_=d_,t=1e8,epoch=500)\n",
    "        # P = model_MDcR.mdcr(X,d_=10,t=1e8,lmd=10,epoch=500)\n",
    "        # P   = model_PCA.cpca(X_train,d_=d_)\n",
    "\n",
    "        #test\n",
    "        pred =  model_MVP.predict(X_test,0.5,1,1e8,10,d_,50)\n",
    "        # criterion\n",
    "        from sklearn.metrics.cluster import normalized_mutual_info_score\n",
    "        nmi = normalized_mutual_info_score(y_test,pred)\n",
    "        nmi_list.append(nmi)\n",
    "    nmi = np.mean(nmi_list)\n",
    "    res_nim.append(nmi)\n",
    "# res_nim\n",
    "import matplotlib.pyplot as plt\n",
    "plt.plot(d_range,res_nim)\n"
   ]
  },
  {
   "cell_type": "code",
   "execution_count": null,
   "metadata": {},
   "outputs": [],
   "source": [
    "#MVBG\n",
    "%load_ext autoreload\n",
    "%autoreload 2\n",
    "import warnings\n",
    "warnings.filterwarnings('ignore')\n",
    "#model and \n",
    "from utils import *\n",
    "from tqdm import tqdm\n",
    "from models import MSE,MDcR,DSE,MVBG,PCA\n",
    "from sklearn.metrics.cluster import normalized_mutual_info_score\n",
    "X,labels=read_data('datasets/data sets/NGs.mat')\n",
    "X = [X[0,i].T for  i  in range(X.shape[1])]\n",
    "labels  = labels.squeeze()\n",
    "\n",
    "d_range = (10,12)\n",
    "model_mvbg = MVBG(0.1,2,0.1)\n",
    "res_nmi = []\n",
    "for d_ in d_range:\n",
    "    nmi_list=[]\n",
    "    for _ in range(1):\n",
    "        dim_emb = model_mvbg.mvbg(X,100,d_,10)\n",
    "        pred =kmeans(dim_emb,7)\n",
    "        nmi_temp = normalized_mutual_info_score(labels, pred)\n",
    "        nmi_list.append(nmi_temp)\n",
    "    nmi = np.mean(nmi_list)\n",
    "    res_nmi.append(nmi)\n",
    "print(res_nmi)"
   ]
  },
  {
   "cell_type": "code",
   "execution_count": null,
   "metadata": {},
   "outputs": [],
   "source": [
    "#DSE 單獨\n",
    "%load_ext autoreload\n",
    "%autoreload 2\n",
    "import warnings\n",
    "warnings.filterwarnings('ignore')\n",
    "\n",
    "from utils import *\n",
    "from tqdm import tqdm\n",
    "X,labels=read_data('datasets/data sets/YALE.mat')\n",
    "X = [X[0,i].T for  i  in range(X.shape[1])]\n",
    "labels  = labels.squeeze()\n",
    "\n",
    "from models import DSE\n",
    "model_DSE = DSE()\n",
    "nmi_list=[]\n",
    "\n",
    "for _ in tqdm(range(20)):\n",
    "\n",
    "    pred = model_DSE.dse(X,7,2,500)\n",
    "    from sklearn.metrics.cluster import normalized_mutual_info_score\n",
    "    nmi = normalized_mutual_info_score(labels,pred)\n",
    "    # print(nmi)\n",
    "    nmi_list.append(nmi)\n",
    "print(np.mean(nmi_list))"
   ]
  },
  {
   "cell_type": "code",
   "execution_count": null,
   "metadata": {},
   "outputs": [],
   "source": [
    "labels.shape"
   ]
  },
  {
   "cell_type": "code",
   "execution_count": null,
   "metadata": {},
   "outputs": [],
   "source": [
    "x=np.random.rand(3,4)\n",
    "np.exp(x)/np.exp(x).sum(1).reshape(3,-1)"
   ]
  }
 ],
 "metadata": {
  "kernelspec": {
   "display_name": "base",
   "language": "python",
   "name": "python3"
  },
  "language_info": {
   "codemirror_mode": {
    "name": "ipython",
    "version": 3
   },
   "file_extension": ".py",
   "mimetype": "text/x-python",
   "name": "python",
   "nbconvert_exporter": "python",
   "pygments_lexer": "ipython3",
   "version": "3.11.4"
  }
 },
 "nbformat": 4,
 "nbformat_minor": 2
}
