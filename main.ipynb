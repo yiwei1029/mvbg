{
 "cells": [
  {
   "cell_type": "code",
   "execution_count": 10,
   "metadata": {},
   "outputs": [
    {
     "name": "stdout",
     "output_type": "stream",
     "text": [
      "The autoreload extension is already loaded. To reload it, use:\n",
      "  %reload_ext autoreload\n"
     ]
    },
    {
     "ename": "ValueError",
     "evalue": "operands could not be broadcast together with shapes (4,) (4,50,50) ",
     "output_type": "error",
     "traceback": [
      "\u001b[1;31m---------------------------------------------------------------------------\u001b[0m",
      "\u001b[1;31mValueError\u001b[0m                                Traceback (most recent call last)",
      "\u001b[1;32mc:\\Users\\pc\\Documents\\machine_learning_projects\\main.ipynb Cell 1\u001b[0m line \u001b[0;36m2\n\u001b[0;32m     <a href='vscode-notebook-cell:/c%3A/Users/pc/Documents/machine_learning_projects/main.ipynb#W0sZmlsZQ%3D%3D?line=16'>17</a>\u001b[0m res_nim \u001b[39m=\u001b[39m []\n\u001b[0;32m     <a href='vscode-notebook-cell:/c%3A/Users/pc/Documents/machine_learning_projects/main.ipynb#W0sZmlsZQ%3D%3D?line=17'>18</a>\u001b[0m \u001b[39mfor\u001b[39;00m d_ \u001b[39min\u001b[39;00m \u001b[39mrange\u001b[39m(\u001b[39m10\u001b[39m,\u001b[39m12\u001b[39m):\n\u001b[0;32m     <a href='vscode-notebook-cell:/c%3A/Users/pc/Documents/machine_learning_projects/main.ipynb#W0sZmlsZQ%3D%3D?line=18'>19</a>\u001b[0m     \u001b[39m# Y = model_MSE.mse(X,gamma = 0.9,d_=d_,t=1e8,epoch=500)\u001b[39;00m\n\u001b[0;32m     <a href='vscode-notebook-cell:/c%3A/Users/pc/Documents/machine_learning_projects/main.ipynb#W0sZmlsZQ%3D%3D?line=19'>20</a>\u001b[0m     \u001b[39m# Y = model_MDcR.mdcr(X,d_=10,t=1e8,lmd=10,epoch=500)\u001b[39;00m\n\u001b[1;32m---> <a href='vscode-notebook-cell:/c%3A/Users/pc/Documents/machine_learning_projects/main.ipynb#W0sZmlsZQ%3D%3D?line=20'>21</a>\u001b[0m     Y  \u001b[39m=\u001b[39m model_MVBG\u001b[39m.\u001b[39mmvbg(X,\u001b[39m50\u001b[39m,\u001b[39m10\u001b[39m,\u001b[39m500\u001b[39m)\n\u001b[0;32m     <a href='vscode-notebook-cell:/c%3A/Users/pc/Documents/machine_learning_projects/main.ipynb#W0sZmlsZQ%3D%3D?line=21'>22</a>\u001b[0m     nmi_list \u001b[39m=\u001b[39m []\n\u001b[0;32m     <a href='vscode-notebook-cell:/c%3A/Users/pc/Documents/machine_learning_projects/main.ipynb#W0sZmlsZQ%3D%3D?line=22'>23</a>\u001b[0m     \u001b[39mfor\u001b[39;00m i \u001b[39min\u001b[39;00m tqdm(\u001b[39mrange\u001b[39m(\u001b[39m20\u001b[39m)):\n",
      "File \u001b[1;32mc:\\Users\\pc\\Documents\\machine_learning_projects\\models.py:33\u001b[0m, in \u001b[0;36mMVBG.mvbg\u001b[1;34m(self, X, m, d_, epoch)\u001b[0m\n\u001b[0;32m     31\u001b[0m E \u001b[39m=\u001b[39m np\u001b[39m.\u001b[39mconcatenate([F,G])\n\u001b[0;32m     32\u001b[0m \u001b[39m#step3: Updating Z\u001b[39;00m\n\u001b[1;32m---> 33\u001b[0m \u001b[39mself\u001b[39m\u001b[39m.\u001b[39mupdate_z(w,U, X, F,G,Z)\n\u001b[0;32m     34\u001b[0m \u001b[39m#step4: Updating W\u001b[39;00m\n\u001b[0;32m     35\u001b[0m h \u001b[39m=\u001b[39m [X[i]\u001b[39m-\u001b[39mU[i]\u001b[39m.\u001b[39mdot(Z) \u001b[39mfor\u001b[39;00m i \u001b[39min\u001b[39;00m \u001b[39mrange\u001b[39m(\u001b[39mlen\u001b[39m(w))]\n",
      "File \u001b[1;32mc:\\Users\\pc\\Documents\\machine_learning_projects\\models.py:51\u001b[0m, in \u001b[0;36mMVBG.update_z\u001b[1;34m(self, w, U, X, F, G, Z)\u001b[0m\n\u001b[0;32m     49\u001b[0m d_FG \u001b[39m=\u001b[39m dist_2m_sq(F_norm,G_norm)\n\u001b[0;32m     50\u001b[0m \u001b[39m# U=(v,d_v,m)\u001b[39;00m\n\u001b[1;32m---> 51\u001b[0m U_temp \u001b[39m=\u001b[39m \u001b[39msum\u001b[39m(w\u001b[39m*\u001b[39m\u001b[39m*\u001b[39m\u001b[39mself\u001b[39m\u001b[39m.\u001b[39mgamma\u001b[39m*\u001b[39m[u\u001b[39m.\u001b[39mT\u001b[39m.\u001b[39mdot(u) \u001b[39mfor\u001b[39;00m u \u001b[39min\u001b[39;00m U]) \u001b[39m+\u001b[39m\u001b[39mself\u001b[39m\u001b[39m.\u001b[39malpha\u001b[39m*\u001b[39mnp\u001b[39m.\u001b[39midentity(U[\u001b[39m0\u001b[39m]\u001b[39m.\u001b[39mT\u001b[39m.\u001b[39mshape[\u001b[39m0\u001b[39m])\n\u001b[0;32m     52\u001b[0m V \u001b[39m=\u001b[39m \u001b[39m2\u001b[39m\u001b[39m*\u001b[39m\u001b[39msum\u001b[39m(w\u001b[39m*\u001b[39m\u001b[39m*\u001b[39m\u001b[39mself\u001b[39m\u001b[39m.\u001b[39mgamma\u001b[39m*\u001b[39m[X[i]\u001b[39m.\u001b[39mT\u001b[39m.\u001b[39mdot(U[i]) \u001b[39mfor\u001b[39;00m i \u001b[39min\u001b[39;00m \u001b[39mrange\u001b[39m(\u001b[39mlen\u001b[39m(w))])\u001b[39m-\u001b[39m\u001b[39mself\u001b[39m\u001b[39m.\u001b[39mbeta\u001b[39m*\u001b[39md_FG\n\u001b[0;32m     53\u001b[0m \u001b[39m# main step: Z=(m,n)\u001b[39;00m\n\u001b[0;32m     54\u001b[0m \u001b[39m#init mu and rho\u001b[39;00m\n",
      "\u001b[1;31mValueError\u001b[0m: operands could not be broadcast together with shapes (4,) (4,50,50) "
     ]
    }
   ],
   "source": [
    "%load_ext autoreload\n",
    "%autoreload 2\n",
    "import warnings\n",
    "warnings.filterwarnings('ignore')\n",
    "#model and \n",
    "from utils import *\n",
    "from tqdm import tqdm\n",
    "X,labels=read_data('datasets/data sets/MSRC-v1.mat')\n",
    "X = [X[0,i].T for  i  in range(X.shape[1])]\n",
    "labels  = labels.squeeze()\n",
    "from models import MSE,MDcR,DSE,MVBG\n",
    "model_MSE = MSE()\n",
    "model_MDcR = MDcR()\n",
    "model_DSE = DSE()\n",
    "model_MVBG = MVBG(1,1,1)\n",
    "\n",
    "res_nim = []\n",
    "for d_ in range(10,12):\n",
    "    # Y = model_MSE.mse(X,gamma = 0.9,d_=d_,t=1e8,epoch=500)\n",
    "    # Y = model_MDcR.mdcr(X,d_=10,t=1e8,lmd=10,epoch=500)\n",
    "    Y  = model_MVBG.mvbg(X,50,10,500)\n",
    "    nmi_list = []\n",
    "    for i in tqdm(range(20)):\n",
    "        pred = kmeans(Y,7)\n",
    "        # criterion\n",
    "        from sklearn.metrics.cluster import normalized_mutual_info_score\n",
    "        nmi = normalized_mutual_info_score(labels,pred)\n",
    "        nmi_list.append(nmi)\n",
    "    nmi = np.mean(nmi_list)\n",
    "    res_nim.append(nmi)\n"
   ]
  },
  {
   "cell_type": "code",
   "execution_count": null,
   "metadata": {},
   "outputs": [],
   "source": [
    "import matplotlib.pyplot as plt\n",
    "\n",
    "plt.plot(range(10,12),res_nim)"
   ]
  },
  {
   "cell_type": "code",
   "execution_count": 14,
   "metadata": {},
   "outputs": [
    {
     "name": "stdout",
     "output_type": "stream",
     "text": [
      "The autoreload extension is already loaded. To reload it, use:\n",
      "  %reload_ext autoreload\n"
     ]
    },
    {
     "name": "stderr",
     "output_type": "stream",
     "text": [
      "100%|██████████| 20/20 [01:09<00:00,  3.47s/it]"
     ]
    },
    {
     "name": "stdout",
     "output_type": "stream",
     "text": [
      "0.3010816862213591\n"
     ]
    },
    {
     "name": "stderr",
     "output_type": "stream",
     "text": [
      "\n"
     ]
    }
   ],
   "source": [
    "#DSE 單獨\n",
    "%load_ext autoreload\n",
    "%autoreload 2\n",
    "import warnings\n",
    "warnings.filterwarnings('ignore')\n",
    "\n",
    "from utils import *\n",
    "from tqdm import tqdm\n",
    "X,labels=read_data('datasets/data sets/YALE.mat')\n",
    "X = [X[0,i].T for  i  in range(X.shape[1])]\n",
    "labels  = labels.squeeze()\n",
    "\n",
    "from models import DSE\n",
    "model_DSE = DSE()\n",
    "nmi_list=[]\n",
    "for _ in tqdm(range(20)):\n",
    "    pred = model_DSE.dse(X,7,3,500)\n",
    "    from sklearn.metrics.cluster import normalized_mutual_info_score\n",
    "    nmi = normalized_mutual_info_score(labels,pred)\n",
    "    # print(nmi)\n",
    "    nmi_list.append(nmi)\n",
    "print(np.mean(nmi_list))"
   ]
  },
  {
   "cell_type": "code",
   "execution_count": null,
   "metadata": {},
   "outputs": [],
   "source": [
    "labels.shape"
   ]
  },
  {
   "cell_type": "code",
   "execution_count": null,
   "metadata": {},
   "outputs": [],
   "source": [
    "x=np.random.rand(3,4)\n",
    "np.exp(x)/np.exp(x).sum(1).reshape(3,-1)"
   ]
  }
 ],
 "metadata": {
  "kernelspec": {
   "display_name": "base",
   "language": "python",
   "name": "python3"
  },
  "language_info": {
   "codemirror_mode": {
    "name": "ipython",
    "version": 3
   },
   "file_extension": ".py",
   "mimetype": "text/x-python",
   "name": "python",
   "nbconvert_exporter": "python",
   "pygments_lexer": "ipython3",
   "version": "3.11.4"
  }
 },
 "nbformat": 4,
 "nbformat_minor": 2
}
