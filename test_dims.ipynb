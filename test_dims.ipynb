{
 "cells": [
  {
   "cell_type": "code",
   "execution_count": 9,
   "metadata": {},
   "outputs": [
    {
     "name": "stdout",
     "output_type": "stream",
     "text": [
      "[[-1.39047179e-01  7.57095860e-01 -3.27828828e-01 -2.41327587e-01\n",
      "   4.91691972e-01]\n",
      " [-3.39672716e-01  4.09202847e-01 -1.31055240e-01  6.88255674e-01\n",
      "  -4.75714334e-01]\n",
      " [-5.40298254e-01  6.13098339e-02  6.57183488e-02 -6.52528587e-01\n",
      "  -5.23647250e-01]\n",
      " [-7.40923791e-01 -2.86583179e-01  2.62491937e-01  2.05600500e-01\n",
      "   5.07669611e-01]\n",
      " [-1.56198786e-01 -4.16497388e-01 -8.95618147e-01  4.18641467e-16\n",
      "   5.66048060e-16]] (5, 5)\n",
      "[[-0.50435418 -0.57868533 -0.64089792]\n",
      " [-0.63484581 -0.25460693  0.72948346]\n",
      " [ 0.58531843 -0.77478939  0.23896389]] (3, 3)\n",
      "[25.77843465  1.37946958  0.7545666 ]\n"
     ]
    }
   ],
   "source": [
    "import numpy as np\n",
    "data = np.array([[1,2,3],[4,5,6],[7,8,9],[10,11,12],[2,3,2]])\n",
    "U,sigma,VT = np.linalg.svd(data)\n",
    "print(U,U.shape)\n",
    "print(VT,VT.shape)\n",
    "print(sigma)"
   ]
  },
  {
   "cell_type": "code",
   "execution_count": 74,
   "metadata": {},
   "outputs": [
    {
     "name": "stdout",
     "output_type": "stream",
     "text": [
      "(100, 50)\n",
      "[[ 1.  0.  0. ... -0.  0.  0.]\n",
      " [ 0.  1.  0. ... -0. -0. -0.]\n",
      " [ 0.  0.  1. ...  0. -0. -0.]\n",
      " ...\n",
      " [-0. -0.  0. ...  1. -0.  0.]\n",
      " [ 0. -0. -0. ... -0.  1. -0.]\n",
      " [ 0. -0. -0. ...  0. -0.  1.]]\n"
     ]
    }
   ],
   "source": [
    "import numpy as np\n",
    "mat = np.random.rand(100,400) #(d,n)\n",
    "\n",
    "def pca(mat):\n",
    "    mat = mat-mat.mean(axis=1).reshape(-1,1)\n",
    "    cov = np.dot(mat,mat.T)\n",
    "    eigval,eigvec = np.linalg.eig(cov)\n",
    "    idx = np.argpartition(eigval,-50)[-50:]\n",
    "    w = eigvec[:,idx] #\n",
    "    out = w.T.dot(mat)\n",
    "    print(w.shape)\n",
    "    print(np.rint(w.T.dot(w)))#validate that W*W.T=I\n",
    "pca(mat)"
   ]
  },
  {
   "cell_type": "code",
   "execution_count": 96,
   "metadata": {},
   "outputs": [
    {
     "name": "stdout",
     "output_type": "stream",
     "text": [
      "[1 0 3 2]\n"
     ]
    },
    {
     "data": {
      "text/plain": [
       "array([1, 2, 3, 4])"
      ]
     },
     "execution_count": 96,
     "metadata": {},
     "output_type": "execute_result"
    }
   ],
   "source": [
    "a1 = np.array([2,1,4,3])\n",
    "idx = np.argpartition(a1,3)\n",
    "print(idx)\n",
    "a1[idx]"
   ]
  },
  {
   "cell_type": "code",
   "execution_count": 35,
   "metadata": {},
   "outputs": [
    {
     "name": "stdout",
     "output_type": "stream",
     "text": [
      "[[-0.19869223  0.78348882  0.51665399 -0.28237444]\n",
      " [-0.38643091  0.36148465 -0.25435979  0.8095067 ]\n",
      " [-0.48030025  0.15048257 -0.69416159 -0.51459339]\n",
      " [-0.76190828 -0.48252369  0.43186739 -0.01253887]] [1.82661240e+01 1.16134126e+00 2.35555756e-16] [[-0.47150364 -0.57154301 -0.67158239]\n",
      " [-0.78167618 -0.08168181  0.61831256]\n",
      " [ 0.40824829 -0.81649658  0.40824829]]\n"
     ]
    },
    {
     "data": {
      "text/plain": [
       "array([[1, 2, 3],\n",
       "       [3, 4, 5],\n",
       "       [4, 5, 6],\n",
       "       [7, 8, 9],\n",
       "       [1, 2, 3],\n",
       "       [3, 4, 5],\n",
       "       [4, 5, 6],\n",
       "       [7, 8, 9]])"
      ]
     },
     "execution_count": 35,
     "metadata": {},
     "output_type": "execute_result"
    }
   ],
   "source": [
    "import numpy as np\n",
    "a = np.array([[1,2,3],[3,4,5],[4,5,6],[7,8,9]])\n",
    "aa = np.array([a,a])\n",
    "b = np.array([1,2])\n",
    "# print(aa)\n",
    "# np.linalg.multi_dot([aa,b])\n",
    "# np.diag(a.sum(axis=1))\n",
    "# np.sqrt(a)\n",
    "# np.linalg.inv(np.sqrt(a)).dot(np.sqrt(a))\n",
    "u,s,vh=np.linalg.svd(a)\n",
    "print(u,s,vh)\n",
    "u[:,:2].dot(np.diag(s[:2])).dot(vh[:2,:])\n",
    "np.concatenate([a,a])"
   ]
  }
 ],
 "metadata": {
  "kernelspec": {
   "display_name": "base",
   "language": "python",
   "name": "python3"
  },
  "language_info": {
   "codemirror_mode": {
    "name": "ipython",
    "version": 3
   },
   "file_extension": ".py",
   "mimetype": "text/x-python",
   "name": "python",
   "nbconvert_exporter": "python",
   "pygments_lexer": "ipython3",
   "version": "3.11.4"
  }
 },
 "nbformat": 4,
 "nbformat_minor": 2
}
