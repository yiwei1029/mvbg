{
 "cells": [
  {
   "cell_type": "code",
   "execution_count": null,
   "metadata": {},
   "outputs": [],
   "source": [
    "import numpy as np\n",
    "data = np.array([[1,2,3],[4,5,6],[7,8,9],[10,11,12],[2,3,2]])\n",
    "U,sigma,VT = np.linalg.svd(data)\n",
    "print(U,U.shape)\n",
    "print(VT,VT.shape)\n",
    "print(sigma)"
   ]
  },
  {
   "cell_type": "code",
   "execution_count": null,
   "metadata": {},
   "outputs": [],
   "source": [
    "import numpy as np\n",
    "mat = np.random.rand(100,400) #(d,n)\n",
    "\n",
    "def pca(mat):\n",
    "    mat = mat-mat.mean(axis=1).reshape(-1,1)\n",
    "    cov = np.dot(mat,mat.T)\n",
    "    eigval,eigvec = np.linalg.eig(cov)\n",
    "    idx = np.argpartition(eigval,-50)[-50:]\n",
    "    w = eigvec[:,idx] #\n",
    "    out = w.T.dot(mat)\n",
    "    print(w.shape)\n",
    "    print(np.rint(w.T.dot(w)))#validate that W*W.T=I\n",
    "pca(mat)"
   ]
  },
  {
   "cell_type": "code",
   "execution_count": null,
   "metadata": {},
   "outputs": [],
   "source": [
    "\n",
    "import numpy as np\n",
    "a = np.array([[1,2,3],[3,4,5],[4,5,6],[7,8,9]])\n",
    "aa = np.array([a,a])\n",
    "b = np.array([1,2])\n",
    "# print(aa)\n",
    "# np.linalg.multi_dot([aa,b])\n",
    "# np.diag(a.sum(axis=1))\n",
    "# np.sqrt(a)\n",
    "# np.linalg.inv(np.sqrt(a)).dot(np.sqrt(a))\n",
    "u,s,vh=np.linalg.svd(a)\n",
    "print(u.shape,s.shape,vh.shape)\n",
    "u[:,:2].dot(np.diag(s[:2])).dot(vh[:2,:])\n",
    "# np.concatenate([a,a])"
   ]
  },
  {
   "cell_type": "markdown",
   "metadata": {},
   "source": [
    "`calculate pairwise similarity`"
   ]
  },
  {
   "cell_type": "code",
   "execution_count": null,
   "metadata": {},
   "outputs": [],
   "source": [
    "import numpy as np\n",
    "a = np.array([[1,1],[2,2],[3,3]]) #3,2\n",
    "b = np.array([[3,3],[4,4]]) #2,2\n",
    "a_til = np.tile(np.expand_dims(a,1),[1,2,1])\n",
    "b_til = np.tile(np.expand_dims(b,0),[3,1,1])\n",
    "np.square(a_til-b_til).sum(axis=-1)"
   ]
  },
  {
   "cell_type": "code",
   "execution_count": null,
   "metadata": {},
   "outputs": [],
   "source": [
    "import numpy as np\n",
    "a = np.array([[1,1],[2,2],[3,3]])\n",
    "b = np.array([[1],[2],[3]])\n",
    "a*b\n",
    "diag = 1/np.diagonal(np.array([[1,2],[3,4]])).reshape(-1,1)\n",
    "diag\n",
    "\n",
    "a = np.array([[1,2],[3,4]])\n",
    "aa = np.array([a,a,a])\n",
    "sum([a,a,a])\n",
    "np.where(a[:,1]>0,a[:,1],0)\n",
    "np.random.rand()+1\n",
    "1e-4"
   ]
  },
  {
   "cell_type": "code",
   "execution_count": null,
   "metadata": {},
   "outputs": [],
   "source": [
    "import numpy as np\n",
    "k = np.array([0.5,0.7,0.3,1,0.9])\n",
    "for p in np.linspace(-0.9,0.9,10000):\n",
    "    sum_ = np.where(k+p>0,k+p,0).sum()\n",
    "    if(np.abs(sum_-1)<1e-2):\n",
    "        break\n",
    "    \n",
    "print(p,sum_)"
   ]
  },
  {
   "cell_type": "code",
   "execution_count": null,
   "metadata": {},
   "outputs": [],
   "source": [
    "import numpy as np\n",
    "from PIL import Image\n",
    "img = Image.open('101_0108.JPG')\n",
    "img_ = np.asarray(img.convert('L')) \n",
    "print(type(img_ ))\n",
    "# Image.fromarray(img_).save('1.png')\n",
    "Image.fromarray(img_).show()"
   ]
  },
  {
   "cell_type": "markdown",
   "metadata": {},
   "source": [
    "`reshape tensor or array`"
   ]
  },
  {
   "cell_type": "code",
   "execution_count": null,
   "metadata": {},
   "outputs": [],
   "source": [
    "import numpy  as np\n",
    "a = np.array([[[1,2],[3,4]],[[5,6],[7,8]],[[9,10],[11,12]]])\n",
    "a.transpose(2,0,1).shape\n",
    "\n",
    "b = np.random.rand(3,3,1)\n",
    "c = np.random.rand(3,3,1)\n",
    "np.concatenate([b,c],axis=2)\n",
    "np.expand_dims(b,axis=1).shape\n",
    "a = np.arange(12).reshape(2,3,2)\n",
    "b.squeeze()"
   ]
  },
  {
   "cell_type": "code",
   "execution_count": 5,
   "metadata": {},
   "outputs": [
    {
     "data": {
      "text/plain": [
       "(210, 512)"
      ]
     },
     "execution_count": 5,
     "metadata": {},
     "output_type": "execute_result"
    }
   ],
   "source": [
    "import scipy.io as scio\n",
    "filepath =  './datasets/data sets/MSRC-v1.mat'\n",
    "data = scio.loadmat(filepath)\n",
    "data['X'][0][1].shape"
   ]
  },
  {
   "cell_type": "code",
   "execution_count": null,
   "metadata": {},
   "outputs": [],
   "source": [
    "%load_ext autoreload\n",
    "%autoreload 2\n",
    "from utils import *\n",
    "X,labels=read_data('datasets/data sets/MSRC-v1.mat')\n",
    "X = [X[0,i].T for  i  in range(X.shape[1])]\n",
    "from models import MSE\n",
    "model_MSE = MSE()\n",
    "# Y = model_MSE.mse(X,0.5,120,10000000,500)\n",
    "X,labels=read_data('datasets/data sets/BBC.mat')\n",
    "X = [X[0,i] for i in range(X.shape[1])]\n",
    "X"
   ]
  },
  {
   "cell_type": "code",
   "execution_count": null,
   "metadata": {},
   "outputs": [],
   "source": [
    "\n",
    "from sklearn.metrics.cluster import normalized_mutual_info_score\n",
    "from sklearn.cluster import KMeans\n",
    "km = KMeans(n_clusters=7).fit(Y.T)\n",
    "centers = km.cluster_centers_\n",
    "print(centers.shape)\n",
    "source   = Y.T\n",
    "dist = dist_2m_sq(source,centers)\n",
    "print(dist.shape)\n",
    "dist/dist.sum(1).reshape(-1,1)\n",
    "# nmi = normalized_mutual_info_score(labels.squeeze(),pred)\n",
    "# print(nmi)"
   ]
  },
  {
   "cell_type": "code",
   "execution_count": null,
   "metadata": {},
   "outputs": [],
   "source": [
    "kmeans_cluster_prob(Y)[0]"
   ]
  },
  {
   "cell_type": "code",
   "execution_count": 8,
   "metadata": {},
   "outputs": [
    {
     "data": {
      "text/plain": [
       "array([1, 4])"
      ]
     },
     "execution_count": 8,
     "metadata": {},
     "output_type": "execute_result"
    }
   ],
   "source": [
    "np.array([[1,2,3],[4,5,6],[7,8,9]])*np.array([[1,2,3]])\n",
    "np.array([[1,2,3],[4,5,6],[7,8,9]]).sum(1)\n",
    "np.array([[1,2,3],[4,5,6],[7,8,9]])/np.array([[1,2,3]])\n",
    "np.array([[1,2,3],[4,5,6],[7,8,9]]).sum(0).reshape(-1,1)\n",
    "np.array([[5,2,3],[4,7,6],[7,8,9]]).argmax(1)\n",
    "\n",
    "m=5;n=4\n",
    "Z = np.full(shape=(m,n),fill_value=1/m)\n",
    "Z =  np.random.rand(m,n)\n",
    "np.linalg.inv(Z.dot(Z.T))\n",
    "a =np.array([[1,2,3],[4,5,6],[7,8,9]]) \n",
    "2**2*sum([a,a])\n",
    "np.array([1,2])**2"
   ]
  },
  {
   "cell_type": "code",
   "execution_count": 26,
   "metadata": {},
   "outputs": [
    {
     "name": "stdout",
     "output_type": "stream",
     "text": [
      "The autoreload extension is already loaded. To reload it, use:\n",
      "  %reload_ext autoreload\n"
     ]
    },
    {
     "data": {
      "text/plain": [
       "set()"
      ]
     },
     "execution_count": 26,
     "metadata": {},
     "output_type": "execute_result"
    }
   ],
   "source": [
    "%load_ext autoreload\n",
    "%autoreload 2\n",
    "from utils import random_index\n",
    "a,b=random_index(100,0.8)\n",
    "set(a)&set(b)"
   ]
  },
  {
   "cell_type": "code",
   "execution_count": 260,
   "metadata": {},
   "outputs": [
    {
     "data": {
      "text/plain": [
       "array([1., 1., 1., 1., 1.])"
      ]
     },
     "execution_count": 260,
     "metadata": {},
     "output_type": "execute_result"
    }
   ],
   "source": [
    "n=1000\n",
    "k = np.random.randn(n)\n",
    "k= np.ones(n)*(1)\n",
    "for lmda in np.linspace(-np.abs(np.max(k))-1/len(k),np.abs(np.max(k))+1/len(k),n*1000):\n",
    "    z_i = np.where(k+lmda>=0,k+lmda,0)\n",
    "    if(np.abs(z_i.sum()-1)<1/1000):\n",
    "        break\n",
    "np.diagonal(np.ones((5,5)))"
   ]
  },
  {
   "cell_type": "code",
   "execution_count": 20,
   "metadata": {},
   "outputs": [
    {
     "data": {
      "text/plain": [
       "(6750, 165)"
      ]
     },
     "execution_count": 20,
     "metadata": {},
     "output_type": "execute_result"
    }
   ],
   "source": [
    "from utils import *\n",
    "datasets_names = ['BBC','MSRC-v1','NGs','Reuters','YALE']\n",
    "datasets_names = ['YALE']\n",
    "\n",
    "for dt_name in datasets_names:\n",
    "    # data\n",
    "    X,labels=read_data(f'datasets/data sets/{dt_name}.mat')\n",
    "    X = [X[0,i].T for  i  in range(X.shape[1])]\n",
    "X[2].shape"
   ]
  },
  {
   "cell_type": "code",
   "execution_count": null,
   "metadata": {},
   "outputs": [],
   "source": []
  }
 ],
 "metadata": {
  "kernelspec": {
   "display_name": "base",
   "language": "python",
   "name": "python3"
  },
  "language_info": {
   "codemirror_mode": {
    "name": "ipython",
    "version": 3
   },
   "file_extension": ".py",
   "mimetype": "text/x-python",
   "name": "python",
   "nbconvert_exporter": "python",
   "pygments_lexer": "ipython3",
   "version": "3.11.4"
  }
 },
 "nbformat": 4,
 "nbformat_minor": 2
}
