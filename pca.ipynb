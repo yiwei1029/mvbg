{
 "cells": [
  {
   "cell_type": "code",
   "execution_count": 2,
   "metadata": {},
   "outputs": [
    {
     "data": {
      "text/plain": [
       "(array([2.78750413e+00, 5.16472147e-01, 1.12874869e-03]),\n",
       " array([[ 0.73776614,  0.67470956,  0.02163635],\n",
       "        [ 0.53617392, -0.56620769, -0.62604023],\n",
       "        [ 0.41014466, -0.47347214,  0.77949053]]))"
      ]
     },
     "execution_count": 2,
     "metadata": {},
     "output_type": "execute_result"
    }
   ],
   "source": [
    "import numpy as np\n",
    "def cpca(X,d_): #X: list of (d_v,n)\n",
    "    X = np.concatenate(X)\n",
    "    X = X-X.mean(axis=1).reshape(-1,1)\n",
    "    cov_X = X.dot(X.T)\n",
    "    eigenval,eigenvec = np.linalg.eig(cov_X)\n",
    "    eigenval = np.real(eigenval)\n",
    "    eigenvec = np.real(eigenvec)    \n",
    "    idx = np.argpartition(eigenval,-d_)[-d_:]\n",
    "    select_vec = eigenvec[:,idx]\n",
    "    out = select_vec.T.dot(X)\n",
    "    return out\n",
    "\n",
    "def dpca(X,d_):\n",
    "    dim_reductions =[]\n",
    "    for x in X:\n",
    "        x = x-x.mean(axis=1).reshape(-1,1)\n",
    "        cov_x = x.dot(x.T)\n",
    "        eigenval,eigenvec = np.linalg.eig(cov_x)\n",
    "        eigenval = np.real(eigenval)\n",
    "        eigenvec = np.real(eigenvec)    \n",
    "        idx = np.argpartition(eigenval,-d_)[-d_:]\n",
    "        select_vec = eigenvec[:,idx]\n",
    "        out = select_vec.T.dot(x)\n",
    "        dim_reductions.append(out)\n",
    "    return sum(dim_reductions)/len(dim_reductions)\n",
    "\n",
    "\n",
    "a = np.array([[1,2],[3,4]])\n",
    "b = np.random.rand(3,4)\n",
    "# np.concatenate([a,b])\n",
    "a-a.mean(1)\n",
    "b-b.mean(1).reshape(-1,1)\n",
    "np.linalg.eig(b.dot(b.T))\n",
    "\n"
   ]
  },
  {
   "cell_type": "code",
   "execution_count": 34,
   "metadata": {},
   "outputs": [
    {
     "name": "stdout",
     "output_type": "stream",
     "text": [
      "(1, 4)\n"
     ]
    },
    {
     "name": "stderr",
     "output_type": "stream",
     "text": [
      "d:\\Soft\\Anaconda\\Lib\\site-packages\\sklearn\\cluster\\_kmeans.py:1412: FutureWarning: The default value of `n_init` will change from 10 to 'auto' in 1.4. Set the value of `n_init` explicitly to suppress the warning\n",
      "  super()._check_params_vs_input(X, default_n_init=10)\n",
      "d:\\Soft\\Anaconda\\Lib\\site-packages\\sklearn\\cluster\\_kmeans.py:1436: UserWarning: KMeans is known to have a memory leak on Windows with MKL, when there are less chunks than available threads. You can avoid it by setting the environment variable OMP_NUM_THREADS=1.\n",
      "  warnings.warn(\n"
     ]
    },
    {
     "name": "stdout",
     "output_type": "stream",
     "text": [
      "(210,) (210,)\n",
      "Normalized Mutual Information is 0.42042327493302467\n"
     ]
    }
   ],
   "source": [
    "import scipy.io as sio\n",
    "import numpy as np\n",
    "from sklearn.cluster import KMeans\n",
    "def read_data(filename):\n",
    "    data = sio.loadmat(filename)\n",
    "    X = data['X']\n",
    "    labels = data['Y']\n",
    "    return X,labels\n",
    "\n",
    "\n",
    "X,labels=read_data('datasets/data sets/MSRC-v1.mat')\n",
    "print(X.shape)\n",
    "X = [X[0,i].T for  i  in range(X.shape[1])]\n",
    "cpca(X,10)\n",
    "dimreduce_cpca =  cpca(X,200)\n",
    "kmeans= KMeans(random_state=0,n_clusters=7).fit(dimreduce_cpca.T)\n",
    "print(kmeans.labels_.shape,labels.squeeze().shape)\n",
    "\n",
    "# ACCuracy (ACC), \n",
    "# #Normalized Mutual Iinformation (NMI), \n",
    "# Purity, F-score and Adjusted Rand Index(ARI)\n",
    "from sklearn.metrics.cluster import normalized_mutual_info_score\n",
    "from sklearn.metrics import accuracy_score,adjusted_rand_score\n",
    "\n",
    "nmi = normalized_mutual_info_score(labels.squeeze(),kmeans.labels_)\n",
    "print(f'Normalized Mutual Information is {nmi}')"
   ]
  },
  {
   "cell_type": "code",
   "execution_count": 29,
   "metadata": {},
   "outputs": [
    {
     "name": "stderr",
     "output_type": "stream",
     "text": [
      "23it [00:09,  2.54it/s]\n"
     ]
    },
    {
     "ename": "KeyboardInterrupt",
     "evalue": "",
     "output_type": "error",
     "traceback": [
      "\u001b[1;31m---------------------------------------------------------------------------\u001b[0m",
      "\u001b[1;31mKeyboardInterrupt\u001b[0m                         Traceback (most recent call last)",
      "\u001b[1;32mc:\\Users\\pc\\Documents\\machine_learning_projects\\pca.ipynb Cell 3\u001b[0m line \u001b[0;36m4\n\u001b[0;32m     <a href='vscode-notebook-cell:/c%3A/Users/pc/Documents/machine_learning_projects/pca.ipynb#W2sZmlsZQ%3D%3D?line=42'>43</a>\u001b[0m     temp\u001b[39m=\u001b[39m ((img_tensor\u001b[39m-\u001b[39mnp\u001b[39m.\u001b[39mexpand_dims(color_mean,axis \u001b[39m=\u001b[39m \u001b[39m1\u001b[39m))\u001b[39m*\u001b[39m\u001b[39m*\u001b[39mn)\u001b[39m.\u001b[39mmean(axis\u001b[39m=\u001b[39m\u001b[39m1\u001b[39m)\n\u001b[0;32m     <a href='vscode-notebook-cell:/c%3A/Users/pc/Documents/machine_learning_projects/pca.ipynb#W2sZmlsZQ%3D%3D?line=43'>44</a>\u001b[0m     \u001b[39mreturn\u001b[39;00m temp\u001b[39m*\u001b[39m\u001b[39m*\u001b[39m(\u001b[39m1\u001b[39m\u001b[39m/\u001b[39mn)\n\u001b[1;32m---> <a href='vscode-notebook-cell:/c%3A/Users/pc/Documents/machine_learning_projects/pca.ipynb#W2sZmlsZQ%3D%3D?line=45'>46</a>\u001b[0m img_arrays,labels \u001b[39m=\u001b[39m read_imgs() \u001b[39m#img_arrays = [(ch,n_pixel,1),...]\u001b[39;00m\n\u001b[0;32m     <a href='vscode-notebook-cell:/c%3A/Users/pc/Documents/machine_learning_projects/pca.ipynb#W2sZmlsZQ%3D%3D?line=46'>47</a>\u001b[0m img_tensor \u001b[39m=\u001b[39m np\u001b[39m.\u001b[39mconcatenate(img_arrays,axis \u001b[39m=\u001b[39m \u001b[39m2\u001b[39m)\n\u001b[0;32m     <a href='vscode-notebook-cell:/c%3A/Users/pc/Documents/machine_learning_projects/pca.ipynb#W2sZmlsZQ%3D%3D?line=47'>48</a>\u001b[0m color_mean \u001b[39m=\u001b[39m img_tensor\u001b[39m.\u001b[39mmean(axis\u001b[39m=\u001b[39m\u001b[39m1\u001b[39m)\n",
      "\u001b[1;32mc:\\Users\\pc\\Documents\\machine_learning_projects\\pca.ipynb Cell 3\u001b[0m line \u001b[0;36m3\n\u001b[0;32m     <a href='vscode-notebook-cell:/c%3A/Users/pc/Documents/machine_learning_projects/pca.ipynb#W2sZmlsZQ%3D%3D?line=32'>33</a>\u001b[0m \u001b[39mif\u001b[39;00m(file\u001b[39m.\u001b[39mendswith(\u001b[39m'\u001b[39m\u001b[39mJPG\u001b[39m\u001b[39m'\u001b[39m)):                         \n\u001b[0;32m     <a href='vscode-notebook-cell:/c%3A/Users/pc/Documents/machine_learning_projects/pca.ipynb#W2sZmlsZQ%3D%3D?line=33'>34</a>\u001b[0m     file_path \u001b[39m=\u001b[39m os\u001b[39m.\u001b[39mpath\u001b[39m.\u001b[39mjoin(root, file)\n\u001b[1;32m---> <a href='vscode-notebook-cell:/c%3A/Users/pc/Documents/machine_learning_projects/pca.ipynb#W2sZmlsZQ%3D%3D?line=34'>35</a>\u001b[0m     img \u001b[39m=\u001b[39m np\u001b[39m.\u001b[39masarray(Image\u001b[39m.\u001b[39mopen(file_path))\n\u001b[0;32m     <a href='vscode-notebook-cell:/c%3A/Users/pc/Documents/machine_learning_projects/pca.ipynb#W2sZmlsZQ%3D%3D?line=35'>36</a>\u001b[0m     img_arrays\u001b[39m.\u001b[39mappend(img\u001b[39m.\u001b[39mtranspose((\u001b[39m2\u001b[39m,\u001b[39m0\u001b[39m,\u001b[39m1\u001b[39m))\u001b[39m.\u001b[39mreshape((\u001b[39m3\u001b[39m,\u001b[39m-\u001b[39m\u001b[39m1\u001b[39m,\u001b[39m1\u001b[39m)))\n\u001b[0;32m     <a href='vscode-notebook-cell:/c%3A/Users/pc/Documents/machine_learning_projects/pca.ipynb#W2sZmlsZQ%3D%3D?line=36'>37</a>\u001b[0m     labels\u001b[39m.\u001b[39mappend(file[:\u001b[39m3\u001b[39m])   \n",
      "File \u001b[1;32md:\\Soft\\Anaconda\\Lib\\site-packages\\PIL\\Image.py:701\u001b[0m, in \u001b[0;36mImage.__array_interface__\u001b[1;34m(self)\u001b[0m\n\u001b[0;32m    699\u001b[0m         new[\u001b[39m\"\u001b[39m\u001b[39mdata\u001b[39m\u001b[39m\"\u001b[39m] \u001b[39m=\u001b[39m \u001b[39mself\u001b[39m\u001b[39m.\u001b[39mtobytes(\u001b[39m\"\u001b[39m\u001b[39mraw\u001b[39m\u001b[39m\"\u001b[39m, \u001b[39m\"\u001b[39m\u001b[39mL\u001b[39m\u001b[39m\"\u001b[39m)\n\u001b[0;32m    700\u001b[0m     \u001b[39melse\u001b[39;00m:\n\u001b[1;32m--> 701\u001b[0m         new[\u001b[39m\"\u001b[39m\u001b[39mdata\u001b[39m\u001b[39m\"\u001b[39m] \u001b[39m=\u001b[39m \u001b[39mself\u001b[39m\u001b[39m.\u001b[39mtobytes()\n\u001b[0;32m    702\u001b[0m \u001b[39mexcept\u001b[39;00m \u001b[39mException\u001b[39;00m \u001b[39mas\u001b[39;00m e:\n\u001b[0;32m    703\u001b[0m     \u001b[39mif\u001b[39;00m \u001b[39mnot\u001b[39;00m \u001b[39misinstance\u001b[39m(e, (\u001b[39mMemoryError\u001b[39;00m, \u001b[39mRecursionError\u001b[39;00m)):\n",
      "File \u001b[1;32md:\\Soft\\Anaconda\\Lib\\site-packages\\PIL\\Image.py:758\u001b[0m, in \u001b[0;36mImage.tobytes\u001b[1;34m(self, encoder_name, *args)\u001b[0m\n\u001b[0;32m    755\u001b[0m \u001b[39mif\u001b[39;00m encoder_name \u001b[39m==\u001b[39m \u001b[39m\"\u001b[39m\u001b[39mraw\u001b[39m\u001b[39m\"\u001b[39m \u001b[39mand\u001b[39;00m args \u001b[39m==\u001b[39m ():\n\u001b[0;32m    756\u001b[0m     args \u001b[39m=\u001b[39m \u001b[39mself\u001b[39m\u001b[39m.\u001b[39mmode\n\u001b[1;32m--> 758\u001b[0m \u001b[39mself\u001b[39m\u001b[39m.\u001b[39mload()\n\u001b[0;32m    760\u001b[0m \u001b[39mif\u001b[39;00m \u001b[39mself\u001b[39m\u001b[39m.\u001b[39mwidth \u001b[39m==\u001b[39m \u001b[39m0\u001b[39m \u001b[39mor\u001b[39;00m \u001b[39mself\u001b[39m\u001b[39m.\u001b[39mheight \u001b[39m==\u001b[39m \u001b[39m0\u001b[39m:\n\u001b[0;32m    761\u001b[0m     \u001b[39mreturn\u001b[39;00m \u001b[39mb\u001b[39m\u001b[39m\"\u001b[39m\u001b[39m\"\u001b[39m\n",
      "File \u001b[1;32md:\\Soft\\Anaconda\\Lib\\site-packages\\PIL\\ImageFile.py:269\u001b[0m, in \u001b[0;36mImageFile.load\u001b[1;34m(self)\u001b[0m\n\u001b[0;32m    266\u001b[0m         \u001b[39mraise\u001b[39;00m \u001b[39mOSError\u001b[39;00m(msg)\n\u001b[0;32m    268\u001b[0m b \u001b[39m=\u001b[39m b \u001b[39m+\u001b[39m s\n\u001b[1;32m--> 269\u001b[0m n, err_code \u001b[39m=\u001b[39m decoder\u001b[39m.\u001b[39mdecode(b)\n\u001b[0;32m    270\u001b[0m \u001b[39mif\u001b[39;00m n \u001b[39m<\u001b[39m \u001b[39m0\u001b[39m:\n\u001b[0;32m    271\u001b[0m     \u001b[39mbreak\u001b[39;00m\n",
      "\u001b[1;31mKeyboardInterrupt\u001b[0m: "
     ]
    }
   ],
   "source": [
    "import tarfile\n",
    "import os\n",
    "from tqdm import tqdm\n",
    "import numpy as np\n",
    "\n",
    "\n",
    "\n",
    "def untar(fname, dirs):\n",
    "    \"\"\"\n",
    "    解压tar.gz文件\n",
    "    :param fname: 压缩文件名\n",
    "    :param dirs: 解压后的存放路径\n",
    "    :return: bool\n",
    "    \"\"\"\n",
    "    try:\n",
    "        t = tarfile.open(fname)\n",
    "        t.extractall(path = dirs)\n",
    "        return True\n",
    "    except Exception as e:\n",
    "        print(e)\n",
    "        return False\n",
    "\n",
    "# untar('datasets/msrcorid.tar.gz','./datasets/')\n",
    "from PIL import Image\n",
    "def read_imgs():\n",
    "    path = 'datasets/msrcorid'\n",
    "    filepaths = []\n",
    "    img_arrays = []\n",
    "    labels = []\n",
    "    for root, dirs, files in tqdm(os.walk(path)):\n",
    "        # print(dirnames)     \n",
    "        for file in files:\n",
    "            if(file.endswith('JPG')):                         \n",
    "                file_path = os.path.join(root, file)\n",
    "                img = np.asarray(Image.open(file_path))\n",
    "                img_arrays.append(img.transpose((2,0,1)).reshape((3,-1,1)))\n",
    "                labels.append(file[:3])   \n",
    "                filepaths.append(file_path)           \n",
    "       \n",
    "    return img_arrays,labels\n",
    "def color_moment(n,img_tensor):\n",
    "    color_mean = img_tensor.mean(axis=1)\n",
    "    temp= ((img_tensor-np.expand_dims(color_mean,axis = 1))**n).mean(axis=1)\n",
    "    return temp**(1/n)\n",
    "\n",
    "img_arrays,labels = read_imgs() #img_arrays = [(ch,n_pixel,1),...]\n",
    "img_tensor = np.concatenate(img_arrays,axis = 2)\n",
    "color_mean = img_tensor.mean(axis=1)\n",
    "# color_moment(2,img_tensor)\n",
    "\n"
   ]
  }
 ],
 "metadata": {
  "kernelspec": {
   "display_name": "base",
   "language": "python",
   "name": "python3"
  },
  "language_info": {
   "codemirror_mode": {
    "name": "ipython",
    "version": 3
   },
   "file_extension": ".py",
   "mimetype": "text/x-python",
   "name": "python",
   "nbconvert_exporter": "python",
   "pygments_lexer": "ipython3",
   "version": "3.11.4"
  }
 },
 "nbformat": 4,
 "nbformat_minor": 2
}
