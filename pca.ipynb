{
 "cells": [
  {
   "cell_type": "code",
   "execution_count": 4,
   "metadata": {},
   "outputs": [
    {
     "data": {
      "text/plain": [
       "(array([2.75092348, 0.34061695, 0.05694412]),\n",
       " array([[ 0.66376492,  0.73805594,  0.12120052],\n",
       "        [ 0.34401528, -0.15737586, -0.92568155],\n",
       "        [ 0.66413073, -0.65612976,  0.3583631 ]]))"
      ]
     },
     "execution_count": 4,
     "metadata": {},
     "output_type": "execute_result"
    }
   ],
   "source": [
    "import numpy as np\n",
    "def cpca(X,d_): #X: list of (d_v,n)\n",
    "    X = np.concatenate(X)\n",
    "    X = X-X.mean(axis=1).reshape(-1,1)\n",
    "    cov_X = X.dot(X.T)\n",
    "    eigenval,eigenvec = np.linalg.eig(cov_X)    \n",
    "    select_vec = eigenvec[:,np.partition(eigenval,-d_)[-d_:]]\n",
    "    out = select_vec.T.dot(X)\n",
    "    return out\n",
    "\n",
    "\n",
    "\n",
    "a = np.array([[1,2],[3,4]])\n",
    "b = np.random.rand(3,4)\n",
    "# np.concatenate([a,b])\n",
    "a-a.mean(1)\n",
    "b-b.mean(1).reshape(-1,1)\n",
    "np.linalg.eig(b.dot(b.T))\n",
    "\n"
   ]
  },
  {
   "cell_type": "code",
   "execution_count": 5,
   "metadata": {},
   "outputs": [
    {
     "name": "stderr",
     "output_type": "stream",
     "text": [
      "0it [00:00, ?it/s]"
     ]
    },
    {
     "name": "stderr",
     "output_type": "stream",
     "text": [
      "45it [00:33,  1.33it/s]\n"
     ]
    },
    {
     "ename": "MemoryError",
     "evalue": "Unable to allocate 29.7 GiB for an array with shape (3, 307200, 4323) and data type float64",
     "output_type": "error",
     "traceback": [
      "\u001b[1;31m---------------------------------------------------------------------------\u001b[0m",
      "\u001b[1;31mMemoryError\u001b[0m                               Traceback (most recent call last)",
      "\u001b[1;32mc:\\Users\\pc\\Documents\\machine_learning_projects\\pca.ipynb Cell 2\u001b[0m line \u001b[0;36m4\n\u001b[0;32m     <a href='vscode-notebook-cell:/c%3A/Users/pc/Documents/machine_learning_projects/pca.ipynb#W1sZmlsZQ%3D%3D?line=39'>40</a>\u001b[0m img_arrays,labels \u001b[39m=\u001b[39m read_imgs()\n\u001b[0;32m     <a href='vscode-notebook-cell:/c%3A/Users/pc/Documents/machine_learning_projects/pca.ipynb#W1sZmlsZQ%3D%3D?line=40'>41</a>\u001b[0m color_mean \u001b[39m=\u001b[39m np\u001b[39m.\u001b[39mconcatenate(img_arrays,axis \u001b[39m=\u001b[39m \u001b[39m2\u001b[39m)\u001b[39m.\u001b[39mmean(axis\u001b[39m=\u001b[39m\u001b[39m1\u001b[39m)\n\u001b[1;32m---> <a href='vscode-notebook-cell:/c%3A/Users/pc/Documents/machine_learning_projects/pca.ipynb#W1sZmlsZQ%3D%3D?line=41'>42</a>\u001b[0m color_var \u001b[39m=\u001b[39m np\u001b[39m.\u001b[39mconcatenate(img_arrays,axis \u001b[39m=\u001b[39m \u001b[39m2\u001b[39m)\u001b[39m.\u001b[39mvar(axis\u001b[39m=\u001b[39m\u001b[39m1\u001b[39m)\n\u001b[0;32m     <a href='vscode-notebook-cell:/c%3A/Users/pc/Documents/machine_learning_projects/pca.ipynb#W1sZmlsZQ%3D%3D?line=42'>43</a>\u001b[0m color_skew \u001b[39m=\u001b[39m np\u001b[39m.\u001b[39mconcatenate(img_arrays,axis \u001b[39m=\u001b[39m \u001b[39m2\u001b[39m)\u001b[39m.\u001b[39mskew(axis\u001b[39m=\u001b[39m\u001b[39m1\u001b[39m)\n",
      "File \u001b[1;32md:\\Soft\\Anaconda\\Lib\\site-packages\\numpy\\core\\_methods.py:236\u001b[0m, in \u001b[0;36m_var\u001b[1;34m(a, axis, dtype, out, ddof, keepdims, where)\u001b[0m\n\u001b[0;32m    231\u001b[0m     arrmean \u001b[39m=\u001b[39m arrmean \u001b[39m/\u001b[39m rcount\n\u001b[0;32m    233\u001b[0m \u001b[39m# Compute sum of squared deviations from mean\u001b[39;00m\n\u001b[0;32m    234\u001b[0m \u001b[39m# Note that x may not be inexact and that we need it to be an array,\u001b[39;00m\n\u001b[0;32m    235\u001b[0m \u001b[39m# not a scalar.\u001b[39;00m\n\u001b[1;32m--> 236\u001b[0m x \u001b[39m=\u001b[39m asanyarray(arr \u001b[39m-\u001b[39m arrmean)\n\u001b[0;32m    238\u001b[0m \u001b[39mif\u001b[39;00m \u001b[39missubclass\u001b[39m(arr\u001b[39m.\u001b[39mdtype\u001b[39m.\u001b[39mtype, (nt\u001b[39m.\u001b[39mfloating, nt\u001b[39m.\u001b[39minteger)):\n\u001b[0;32m    239\u001b[0m     x \u001b[39m=\u001b[39m um\u001b[39m.\u001b[39mmultiply(x, x, out\u001b[39m=\u001b[39mx)\n",
      "\u001b[1;31mMemoryError\u001b[0m: Unable to allocate 29.7 GiB for an array with shape (3, 307200, 4323) and data type float64"
     ]
    }
   ],
   "source": [
    "import tarfile\n",
    "import os\n",
    "from tqdm import tqdm\n",
    "import numpy as np\n",
    "def untar(fname, dirs):\n",
    "    \"\"\"\n",
    "    解压tar.gz文件\n",
    "    :param fname: 压缩文件名\n",
    "    :param dirs: 解压后的存放路径\n",
    "    :return: bool\n",
    "    \"\"\"\n",
    "    try:\n",
    "        t = tarfile.open(fname)\n",
    "        t.extractall(path = dirs)\n",
    "        return True\n",
    "    except Exception as e:\n",
    "        print(e)\n",
    "        return False\n",
    "\n",
    "# untar('datasets/msrcorid.tar.gz','./datasets/')\n",
    "from PIL import Image\n",
    "def read_imgs():\n",
    "    path = 'datasets/msrcorid'\n",
    "    filepaths = []\n",
    "    img_arrays = []\n",
    "    labels = []\n",
    "    for root, dirs, files in tqdm(os.walk(path)):\n",
    "        # print(dirnames)     \n",
    "        for file in files:\n",
    "            if(file.endswith('JPG')):                         # 遍历文件\n",
    "                file_path = os.path.join(root, file)\n",
    "                img = np.asarray(Image.open(file_path))\n",
    "                img_arrays.append(img.transpose((2,0,1)).reshape((3,-1,1)))\n",
    "                labels.append(file[:3])   # 获取文件绝对路径  \n",
    "                filepaths.append(file_path)            # 将文件路径添加进列表\n",
    "        # for dir in dirs:                           # 遍历目录下的子目录\n",
    "        #     dir_path = os.path.join(root, dir)     # 获取子目录路径\n",
    "        #     all_files_path(dir_path)               # 递归调用\n",
    "    return img_arrays,labels\n",
    "img_arrays,labels = read_imgs()\n",
    "color_mean = np.concatenate(img_arrays,axis = 2).mean(axis=1)\n",
    "color_var = np.concatenate(img_arrays,axis = 2).var(axis=1)\n",
    "color_skew = np.concatenate(img_arrays,axis = 2).skew(axis=1)\n",
    "# img_tensor = np.concatenate(img_arrays,axis =2)"
   ]
  },
  {
   "cell_type": "code",
   "execution_count": 6,
   "metadata": {},
   "outputs": [
    {
     "data": {
      "text/plain": [
       "array([[141.20790365, 110.08561849,  97.76833984, ...,  72.16966146,\n",
       "         87.78776693,  88.09317383],\n",
       "       [139.88450846, 110.74549805,  98.13979167, ...,  65.54639974,\n",
       "         73.41256185,  77.23255208],\n",
       "       [133.16296224,  99.32343099,  89.29935221, ...,  57.67697591,\n",
       "         62.77745117,  69.35708008]])"
      ]
     },
     "execution_count": 6,
     "metadata": {},
     "output_type": "execute_result"
    }
   ],
   "source": [
    "color_mean"
   ]
  }
 ],
 "metadata": {
  "kernelspec": {
   "display_name": "base",
   "language": "python",
   "name": "python3"
  },
  "language_info": {
   "codemirror_mode": {
    "name": "ipython",
    "version": 3
   },
   "file_extension": ".py",
   "mimetype": "text/x-python",
   "name": "python",
   "nbconvert_exporter": "python",
   "pygments_lexer": "ipython3",
   "version": "3.11.4"
  }
 },
 "nbformat": 4,
 "nbformat_minor": 2
}
