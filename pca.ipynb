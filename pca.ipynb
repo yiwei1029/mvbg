{
 "cells": [
  {
   "cell_type": "code",
   "execution_count": 24,
   "metadata": {},
   "outputs": [
    {
     "data": {
      "text/plain": [
       "(array([3.72890353, 0.05358021, 0.24593822]),\n",
       " array([[ 0.36410043,  0.92961309,  0.05701206],\n",
       "        [ 0.77830103, -0.27007256, -0.56684065],\n",
       "        [ 0.5115451 , -0.25075946,  0.82185236]]))"
      ]
     },
     "execution_count": 24,
     "metadata": {},
     "output_type": "execute_result"
    }
   ],
   "source": [
    "import numpy as np\n",
    "def cpca(X,d_): #X: list of (d_v,n)\n",
    "    X = np.concatenate(X)\n",
    "    X = X-X.mean(axis=1).reshape(-1,1)\n",
    "    cov_X = X.dot(X.T)\n",
    "    eigenval,eigenvec = np.linalg.eig(cov_X)    \n",
    "    select_vec = eigenvec[:,np.partition(eigenval,-d_)[-d_:]]\n",
    "    out = select_vec.T.dot(X)\n",
    "    return out\n",
    "\n",
    "\n",
    "\n",
    "a = np.array([[1,2],[3,4]])\n",
    "b = np.random.rand(3,4)\n",
    "# np.concatenate([a,b])\n",
    "a-a.mean(1)\n",
    "b-b.mean(1).reshape(-1,1)\n",
    "np.linalg.eig(b.dot(b.T))"
   ]
  },
  {
   "cell_type": "code",
   "execution_count": null,
   "metadata": {},
   "outputs": [],
   "source": []
  }
 ],
 "metadata": {
  "kernelspec": {
   "display_name": "base",
   "language": "python",
   "name": "python3"
  },
  "language_info": {
   "codemirror_mode": {
    "name": "ipython",
    "version": 3
   },
   "file_extension": ".py",
   "mimetype": "text/x-python",
   "name": "python",
   "nbconvert_exporter": "python",
   "pygments_lexer": "ipython3",
   "version": "3.11.4"
  }
 },
 "nbformat": 4,
 "nbformat_minor": 2
}
