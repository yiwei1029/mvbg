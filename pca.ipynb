{
 "cells": [
  {
   "cell_type": "code",
   "execution_count": 21,
   "metadata": {},
   "outputs": [
    {
     "data": {
      "text/plain": [
       "(array([3.33189021, 0.2673703 , 0.10820184]),\n",
       " array([[ 0.57866893,  0.80676435,  0.11947192],\n",
       "        [ 0.19772667,  0.00333957, -0.9802515 ],\n",
       "        [ 0.79123096, -0.59086388,  0.15758632]]))"
      ]
     },
     "execution_count": 21,
     "metadata": {},
     "output_type": "execute_result"
    }
   ],
   "source": [
    "import numpy as np\n",
    "def cpca(X,d_): #X: list of (d_v,n)\n",
    "    X = np.concatenate(X)\n",
    "    X = X-X.mean(axis=1).reshape(-1,1)\n",
    "    cov_X = X.dot(X.T)\n",
    "    eigenval,eigenvec = np.linalg.eig(cov_X)\n",
    "    eigenval = np.real(eigenval)\n",
    "    eigenvec = np.real(eigenvec)    \n",
    "    idx = np.argpartition(eigenval,-d_)[-d_:]\n",
    "    select_vec = eigenvec[:,idx]\n",
    "    out = select_vec.T.dot(X)\n",
    "    return out\n",
    "\n",
    "\n",
    "\n",
    "a = np.array([[1,2],[3,4]])\n",
    "b = np.random.rand(3,4)\n",
    "# np.concatenate([a,b])\n",
    "a-a.mean(1)\n",
    "b-b.mean(1).reshape(-1,1)\n",
    "np.linalg.eig(b.dot(b.T))\n",
    "\n"
   ]
  },
  {
   "cell_type": "code",
   "execution_count": 25,
   "metadata": {},
   "outputs": [
    {
     "name": "stdout",
     "output_type": "stream",
     "text": [
      "(1, 4)\n"
     ]
    },
    {
     "data": {
      "text/plain": [
       "array([[-1.37562826e+01,  3.97926279e+01, -3.70780104e+01, ...,\n",
       "         5.66778439e+00, -3.40605646e+01,  2.92823300e+00],\n",
       "       [-2.88209924e+01,  1.28707303e+01,  4.61312520e+01, ...,\n",
       "        -3.59879011e+01, -3.36239870e+01,  1.12994373e+01],\n",
       "       [ 7.76526491e+00, -6.12214855e+01, -4.28835566e+01, ...,\n",
       "         3.10512348e+01,  8.11416255e+00, -2.92831900e+01],\n",
       "       ...,\n",
       "       [ 3.13730149e+03,  3.71985045e+03,  4.18338430e+03, ...,\n",
       "         2.86582231e+03,  2.37181821e+03,  3.29955447e+02],\n",
       "       [ 2.86748482e+03,  4.98876447e+03,  5.48622250e+03, ...,\n",
       "         3.65420348e+03,  2.94284771e+03,  3.78493802e+03],\n",
       "       [-2.57924737e+03, -1.34066475e+03, -1.41657946e+03, ...,\n",
       "        -4.65623749e+03, -5.45172177e+03, -5.72210694e+03]])"
      ]
     },
     "execution_count": 25,
     "metadata": {},
     "output_type": "execute_result"
    }
   ],
   "source": [
    "import scipy.io as sio\n",
    "import numpy as np\n",
    "def read_data(filename):\n",
    "    data = sio.loadmat(filename)\n",
    "    X = data['X']\n",
    "    labels = data['Y']\n",
    "    return X,labels\n",
    "\n",
    "\n",
    "X,labels=read_data('datasets/data sets/MSRC-v1.mat')\n",
    "print(X.shape)\n",
    "X = [X[0,i].T for  i  in range(X.shape[1])]\n",
    "cpca(X,100)\n"
   ]
  },
  {
   "cell_type": "code",
   "execution_count": null,
   "metadata": {},
   "outputs": [],
   "source": [
    "import tarfile\n",
    "import os\n",
    "from tqdm import tqdm\n",
    "import numpy as np\n",
    "\n",
    "\n",
    "\n",
    "def untar(fname, dirs):\n",
    "    \"\"\"\n",
    "    解压tar.gz文件\n",
    "    :param fname: 压缩文件名\n",
    "    :param dirs: 解压后的存放路径\n",
    "    :return: bool\n",
    "    \"\"\"\n",
    "    try:\n",
    "        t = tarfile.open(fname)\n",
    "        t.extractall(path = dirs)\n",
    "        return True\n",
    "    except Exception as e:\n",
    "        print(e)\n",
    "        return False\n",
    "\n",
    "# untar('datasets/msrcorid.tar.gz','./datasets/')\n",
    "from PIL import Image\n",
    "def read_imgs():\n",
    "    path = 'datasets/msrcorid'\n",
    "    filepaths = []\n",
    "    img_arrays = []\n",
    "    labels = []\n",
    "    for root, dirs, files in tqdm(os.walk(path)):\n",
    "        # print(dirnames)     \n",
    "        for file in files:\n",
    "            if(file.endswith('JPG')):                         \n",
    "                file_path = os.path.join(root, file)\n",
    "                img = np.asarray(Image.open(file_path))\n",
    "                img_arrays.append(img.transpose((2,0,1)).reshape((3,-1,1)))\n",
    "                labels.append(file[:3])   \n",
    "                filepaths.append(file_path)           \n",
    "       \n",
    "    return img_arrays,labels\n",
    "def color_moment(n,img_tensor):\n",
    "    color_mean = img_tensor.mean(axis=1)\n",
    "    temp= ((img_tensor-np.expand_dims(color_mean,axis = 1))**n).mean(axis=1)\n",
    "    return temp**(1/n)\n",
    "\n",
    "img_arrays,labels = read_imgs() #img_arrays = [(ch,n_pixel,1),...]\n",
    "img_tensor = np.concatenate(img_arrays,axis = 2)\n",
    "color_mean = img_tensor.mean(axis=1)\n",
    "# color_moment(2,img_tensor)\n",
    "\n"
   ]
  }
 ],
 "metadata": {
  "kernelspec": {
   "display_name": "base",
   "language": "python",
   "name": "python3"
  },
  "language_info": {
   "codemirror_mode": {
    "name": "ipython",
    "version": 3
   },
   "file_extension": ".py",
   "mimetype": "text/x-python",
   "name": "python",
   "nbconvert_exporter": "python",
   "pygments_lexer": "ipython3",
   "version": "3.11.4"
  }
 },
 "nbformat": 4,
 "nbformat_minor": 2
}
