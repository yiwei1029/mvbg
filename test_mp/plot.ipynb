{
 "cells": [
  {
   "cell_type": "code",
   "execution_count": null,
   "metadata": {},
   "outputs": [],
   "source": [
    "import numpy as np\n",
    "import matplotlib.pyplot as plt\n",
    "import os\n",
    "path = '../result/nmi/NGs/'\n",
    "models=os.listdir(path)\n",
    "models.remove('d_range.npy')\n",
    "plt.figure(figsize=(10,5))\n",
    "for model in models:\n",
    "    temp = np.load(path+f'{model}')\n",
    "    range   = np.load(path+'d_range.npy')\n",
    "    plt.plot(range,temp,marker='o',label = model)\n",
    "plt.legend(loc='best')\n",
    "print(type(models))"
   ]
  }
 ],
 "metadata": {
  "kernelspec": {
   "display_name": "base",
   "language": "python",
   "name": "python3"
  },
  "language_info": {
   "codemirror_mode": {
    "name": "ipython",
    "version": 3
   },
   "file_extension": ".py",
   "mimetype": "text/x-python",
   "name": "python",
   "nbconvert_exporter": "python",
   "pygments_lexer": "ipython3",
   "version": "3.11.4"
  }
 },
 "nbformat": 4,
 "nbformat_minor": 2
}
