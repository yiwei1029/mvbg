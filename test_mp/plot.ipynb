{
 "cells": [
  {
   "cell_type": "code",
   "execution_count": null,
   "metadata": {},
   "outputs": [],
   "source": [
    "import numpy as np\n",
    "import matplotlib.pyplot as plt\n",
    "import os\n",
    "path = '../result/nmi/NGs/'\n",
    "models=os.listdir(path)\n",
    "models.remove('d_range.npy')\n",
    "plt.figure(figsize=(10,5))\n",
    "for model in models:\n",
    "    temp = np.load(path+f'{model}')\n",
    "    range   = np.load(path+'d_range.npy')\n",
    "    plt.plot(range,temp,marker='o',label = model)\n",
    "plt.legend(loc='best')\n",
    "print(type(models))"
   ]
  },
  {
   "cell_type": "code",
   "execution_count": 1,
   "metadata": {},
   "outputs": [
    {
     "data": {
      "text/plain": [
       "1.8735013540549517e-16"
      ]
     },
     "execution_count": 1,
     "metadata": {},
     "output_type": "execute_result"
    }
   ],
   "source": [
    "import numpy as np\n",
    "a = np.random.rand(5,3)\n",
    "U,A,V_T = np.linalg.svd(a)\n",
    "uu = U[:3,:]\n",
    "vv = V_T[:,:3]\n",
    "uu.dot(uu.T)\n",
    "vv.T.dot(vv)\n",
    "sum(U[1]*U[2]) #正交"
   ]
  }
 ],
 "metadata": {
  "kernelspec": {
   "display_name": "base",
   "language": "python",
   "name": "python3"
  },
  "language_info": {
   "codemirror_mode": {
    "name": "ipython",
    "version": 3
   },
   "file_extension": ".py",
   "mimetype": "text/x-python",
   "name": "python",
   "nbconvert_exporter": "python",
   "pygments_lexer": "ipython3",
   "version": "3.11.4"
  }
 },
 "nbformat": 4,
 "nbformat_minor": 2
}
